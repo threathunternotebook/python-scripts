{
 "cells": [
  {
   "cell_type": "code",
   "execution_count": 77,
   "id": "36e39c75-d908-4ad2-97c5-b0a1b4838168",
   "metadata": {},
   "outputs": [],
   "source": [
    "# Look for possible beacons using Zeek data\n",
    "from ssh2.session import Session\n",
    "import socket\n",
    "\n",
    "class SSHCommand:\n",
    "    address = \"\"\n",
    "    username = \"\"\n",
    "    password = \"\"\n",
    "    \n",
    "    def __init__(self, address=\"127.0.0.1\", username=\"none\", password=\"none\"):\n",
    "        self.address = address\n",
    "        self.username = username\n",
    "        self.password = password\n",
    "    \n",
    "    def execute(self, command = \"\"):\n",
    "        sock = socket.socket(socket.AF_INET, socket.SOCK_STREAM)\n",
    "        sock.connect((self.address, 22))\n",
    "        session = Session()\n",
    "        session.handshake(sock)\n",
    "        session.userauth_password(self.username, self.password)\n",
    "        channel = session.open_session()\n",
    "        channel.execute(command)\n",
    "        result = \"\"\n",
    "        size, result = channel.read()\n",
    "        while size > 0:\n",
    "            size, data = channel.read()\n",
    "            result = result + data\n",
    "        channel.close()\n",
    "        session.disconnect()\n",
    "        return result.decode('ascii')\n"
   ]
  },
  {
   "cell_type": "code",
   "execution_count": 78,
   "id": "c4b5358f-07e4-49a1-9f87-e53ed76a3e4a",
   "metadata": {},
   "outputs": [],
   "source": [
    "ssh = SSHCommand(address='172.16.1.17', username='venator', password='cpt701cpt701')\n",
    "result = ssh.execute('echo -e \\\"timestamp,duration,orig_bytes,resp_bytes,orig_pkts,resp_pkts\\\" && zcat /nsm/zeek/logs/2022-08-17//conn.* | jq -j \\'select(.conn_state == \\\"SF\\\") | .[\\\"ts\\\"], \\\",\\\", .[\\\"duration\\\"], \\\",\\\", .[\\\"orig_bytes\\\"], \\\",\\\", .[\\\"resp_bytes\\\"], \\\",\\\", .[\\\"orig_pkts\\\"], \\\",\\\", .[\\\"resp_pkts\\\"], \\\"\\n\\\"\\' | awk -F \\\":\\\" \\'{print $1,$3}\\'')"
   ]
  },
  {
   "cell_type": "code",
   "execution_count": 79,
   "id": "e48d158f-9e19-4808-918e-a18bc5825fe5",
   "metadata": {},
   "outputs": [
    {
     "data": {
      "text/html": [
       "<div>\n",
       "<style scoped>\n",
       "    .dataframe tbody tr th:only-of-type {\n",
       "        vertical-align: middle;\n",
       "    }\n",
       "\n",
       "    .dataframe tbody tr th {\n",
       "        vertical-align: top;\n",
       "    }\n",
       "\n",
       "    .dataframe thead th {\n",
       "        text-align: right;\n",
       "    }\n",
       "</style>\n",
       "<table border=\"1\" class=\"dataframe\">\n",
       "  <thead>\n",
       "    <tr style=\"text-align: right;\">\n",
       "      <th></th>\n",
       "      <th>timestamp</th>\n",
       "      <th>duration</th>\n",
       "      <th>orig_bytes</th>\n",
       "      <th>resp_bytes</th>\n",
       "      <th>orig_pkts</th>\n",
       "      <th>resp_pkts</th>\n",
       "      <th>all_pkts</th>\n",
       "      <th>all_bytes</th>\n",
       "      <th>date</th>\n",
       "    </tr>\n",
       "  </thead>\n",
       "  <tbody>\n",
       "    <tr>\n",
       "      <th>0</th>\n",
       "      <td>1.660694e+09</td>\n",
       "      <td>2.039075</td>\n",
       "      <td>50.0</td>\n",
       "      <td>114.0</td>\n",
       "      <td>1</td>\n",
       "      <td>1</td>\n",
       "      <td>2</td>\n",
       "      <td>164.0</td>\n",
       "      <td>2022-08-17 00:00:02.372251904</td>\n",
       "    </tr>\n",
       "    <tr>\n",
       "      <th>1</th>\n",
       "      <td>1.660694e+09</td>\n",
       "      <td>4.064150</td>\n",
       "      <td>93.0</td>\n",
       "      <td>243.0</td>\n",
       "      <td>2</td>\n",
       "      <td>2</td>\n",
       "      <td>4</td>\n",
       "      <td>336.0</td>\n",
       "      <td>2022-08-17 00:00:02.300108032</td>\n",
       "    </tr>\n",
       "    <tr>\n",
       "      <th>2</th>\n",
       "      <td>1.660694e+09</td>\n",
       "      <td>2.038839</td>\n",
       "      <td>50.0</td>\n",
       "      <td>105.0</td>\n",
       "      <td>1</td>\n",
       "      <td>1</td>\n",
       "      <td>2</td>\n",
       "      <td>155.0</td>\n",
       "      <td>2022-08-17 00:00:02.372555008</td>\n",
       "    </tr>\n",
       "    <tr>\n",
       "      <th>3</th>\n",
       "      <td>1.660694e+09</td>\n",
       "      <td>4.068380</td>\n",
       "      <td>93.0</td>\n",
       "      <td>243.0</td>\n",
       "      <td>2</td>\n",
       "      <td>2</td>\n",
       "      <td>4</td>\n",
       "      <td>336.0</td>\n",
       "      <td>2022-08-17 00:00:06.365487104</td>\n",
       "    </tr>\n",
       "    <tr>\n",
       "      <th>4</th>\n",
       "      <td>1.660694e+09</td>\n",
       "      <td>2.034879</td>\n",
       "      <td>50.0</td>\n",
       "      <td>114.0</td>\n",
       "      <td>1</td>\n",
       "      <td>1</td>\n",
       "      <td>2</td>\n",
       "      <td>164.0</td>\n",
       "      <td>2022-08-17 00:00:44.372294912</td>\n",
       "    </tr>\n",
       "    <tr>\n",
       "      <th>...</th>\n",
       "      <td>...</td>\n",
       "      <td>...</td>\n",
       "      <td>...</td>\n",
       "      <td>...</td>\n",
       "      <td>...</td>\n",
       "      <td>...</td>\n",
       "      <td>...</td>\n",
       "      <td>...</td>\n",
       "      <td>...</td>\n",
       "    </tr>\n",
       "    <tr>\n",
       "      <th>16052</th>\n",
       "      <td>1.660781e+09</td>\n",
       "      <td>74.195386</td>\n",
       "      <td>23700.0</td>\n",
       "      <td>27619.0</td>\n",
       "      <td>214</td>\n",
       "      <td>130</td>\n",
       "      <td>344</td>\n",
       "      <td>51319.0</td>\n",
       "      <td>2022-08-17 23:57:50.560344832</td>\n",
       "    </tr>\n",
       "    <tr>\n",
       "      <th>16053</th>\n",
       "      <td>1.660781e+09</td>\n",
       "      <td>5.396579</td>\n",
       "      <td>2290.0</td>\n",
       "      <td>2573.0</td>\n",
       "      <td>24</td>\n",
       "      <td>17</td>\n",
       "      <td>41</td>\n",
       "      <td>4863.0</td>\n",
       "      <td>2022-08-17 23:58:59.359493888</td>\n",
       "    </tr>\n",
       "    <tr>\n",
       "      <th>16054</th>\n",
       "      <td>1.660781e+09</td>\n",
       "      <td>91.754582</td>\n",
       "      <td>35393.0</td>\n",
       "      <td>107219.0</td>\n",
       "      <td>157</td>\n",
       "      <td>116</td>\n",
       "      <td>273</td>\n",
       "      <td>142612.0</td>\n",
       "      <td>2022-08-17 23:57:32.973409792</td>\n",
       "    </tr>\n",
       "    <tr>\n",
       "      <th>16055</th>\n",
       "      <td>1.660781e+09</td>\n",
       "      <td>61.649581</td>\n",
       "      <td>683528.0</td>\n",
       "      <td>1656085.0</td>\n",
       "      <td>3244</td>\n",
       "      <td>3073</td>\n",
       "      <td>6317</td>\n",
       "      <td>2339613.0</td>\n",
       "      <td>2022-08-17 23:58:03.106742016</td>\n",
       "    </tr>\n",
       "    <tr>\n",
       "      <th>16056</th>\n",
       "      <td>1.660781e+09</td>\n",
       "      <td>0.037235</td>\n",
       "      <td>80111.0</td>\n",
       "      <td>210.0</td>\n",
       "      <td>9</td>\n",
       "      <td>19</td>\n",
       "      <td>28</td>\n",
       "      <td>80321.0</td>\n",
       "      <td>2022-08-17 23:59:04.744594944</td>\n",
       "    </tr>\n",
       "  </tbody>\n",
       "</table>\n",
       "<p>16057 rows × 9 columns</p>\n",
       "</div>"
      ],
      "text/plain": [
       "          timestamp   duration  orig_bytes  resp_bytes  orig_pkts  resp_pkts  \\\n",
       "0      1.660694e+09   2.039075        50.0       114.0          1          1   \n",
       "1      1.660694e+09   4.064150        93.0       243.0          2          2   \n",
       "2      1.660694e+09   2.038839        50.0       105.0          1          1   \n",
       "3      1.660694e+09   4.068380        93.0       243.0          2          2   \n",
       "4      1.660694e+09   2.034879        50.0       114.0          1          1   \n",
       "...             ...        ...         ...         ...        ...        ...   \n",
       "16052  1.660781e+09  74.195386     23700.0     27619.0        214        130   \n",
       "16053  1.660781e+09   5.396579      2290.0      2573.0         24         17   \n",
       "16054  1.660781e+09  91.754582     35393.0    107219.0        157        116   \n",
       "16055  1.660781e+09  61.649581    683528.0   1656085.0       3244       3073   \n",
       "16056  1.660781e+09   0.037235     80111.0       210.0          9         19   \n",
       "\n",
       "       all_pkts  all_bytes                          date  \n",
       "0             2      164.0 2022-08-17 00:00:02.372251904  \n",
       "1             4      336.0 2022-08-17 00:00:02.300108032  \n",
       "2             2      155.0 2022-08-17 00:00:02.372555008  \n",
       "3             4      336.0 2022-08-17 00:00:06.365487104  \n",
       "4             2      164.0 2022-08-17 00:00:44.372294912  \n",
       "...         ...        ...                           ...  \n",
       "16052       344    51319.0 2022-08-17 23:57:50.560344832  \n",
       "16053        41     4863.0 2022-08-17 23:58:59.359493888  \n",
       "16054       273   142612.0 2022-08-17 23:57:32.973409792  \n",
       "16055      6317  2339613.0 2022-08-17 23:58:03.106742016  \n",
       "16056        28    80321.0 2022-08-17 23:59:04.744594944  \n",
       "\n",
       "[16057 rows x 9 columns]"
      ]
     },
     "execution_count": 79,
     "metadata": {},
     "output_type": "execute_result"
    }
   ],
   "source": [
    "from io import StringIO\n",
    "import pandas as pd\n",
    "\n",
    "def string_to_df(data):\n",
    "    return pd.read_csv(StringIO(data), sep=\",\")\n",
    "\n",
    "df = string_to_df(result)\n",
    "all_pkts = df['orig_pkts'] + df['resp_pkts']\n",
    "all_bytes = df['orig_bytes'] + df['resp_bytes']\n",
    "df[\"all_pkts\"] = all_pkts\n",
    "df[\"all_bytes\"] = all_bytes\n",
    "df['date'] = pd.to_datetime(df['timestamp'],unit='s')\n",
    "df"
   ]
  },
  {
   "cell_type": "code",
   "execution_count": 80,
   "id": "51e9fbb7-edb1-4882-b197-d2eec786fdf2",
   "metadata": {},
   "outputs": [],
   "source": [
    "# Don't run this cell until fixed. Tryining to get date/time to 1 hour increments\n",
    "\n",
    "from io import StringIO\n",
    "import pandas as pd\n",
    "import datetime\n",
    "\n",
    "def string_to_df(data):\n",
    "    return pd.read_csv(StringIO(data), sep=\",\")\n",
    "\n",
    "#print(result)\n",
    "#df = string_to_df(result)\n",
    "\n",
    "ts2 = df['timestamp'].iloc[0] # Get the first timestamp of the log\n",
    "#orig_ip = df['id.orig_h'].iloc[0]\n",
    "\n",
    "test = \"ts,all_pkts_hour,all_bytes_hour\\n\"\n",
    "ts_index = 0\n",
    "pkts_index = 0\n",
    "all_pkts_hour = 0\n",
    "all_bytes_hour = 0\n",
    "df_pkts = pd.DataFrame(columns=[\"ts\",\"all_pkts_hour\",\"all_bytes_hour\"])\n",
    "for index,value in df['timestamp'].sort_values().items():\n",
    "    ts1 = value\n",
    "    ts_count = value\n",
    "    if ts_count >= ts2 + 3600: # if the value of the current timestamp is 3600 seconds (1 hour) equal to or greater than the previous timestamp\n",
    "        all_pkts_hour = all_pkts_hour + df['all_pkts'].iloc[index] # get total packet count for this index\n",
    "        all_bytes_hour = all_bytes_hour + df['all_bytes'].iloc[index]\n",
    "#        all_bytes = all_bytes + df['all_bytes'].iloc[index] # get total byte count for this index\n",
    "#        all_pkts_hour = all_pkts # set total packets for the hour\n",
    "#        print(all_pkts)\n",
    "        epoch_time = ts1\n",
    "        datetime_time = datetime.datetime.fromtimestamp(epoch_time) # create ISO date from epoch_time\n",
    "#        print(datetime_time,\"\\t\",all_pkts)\n",
    "        test += str(datetime_time) + ',' + str(all_pkts_hour) + ',' + str(all_bytes_hour) + '\\n' #build list for pandas array\n",
    "        all_pkts_hour = 0\n",
    "        all_bytes_hour = 0\n",
    "        ts2 = value\n",
    "    else: # else if the current timestamp is less than 3600 seconds than the previous timestamp\n",
    "        all_pkts_hour = all_pkts_hour + df['all_pkts'].iloc[index] #increment origpkts\n",
    "        all_bytes_hour = all_bytes_hour + df['all_bytes'].iloc[index] # increment respPkts\n",
    "#        all_pkts = all_pkts + respPkts + origPkts # add origPkts and respPkts to all_pkts\n",
    "#        print(all_pkts)\n",
    "#        origPkts = 0\n",
    "#        respPkts = 0\n",
    "\n",
    "df_pkts = pd.read_csv(StringIO(str(test)), sep=\",\")\n",
    "#print(test)\n",
    "#print(df_pkts)"
   ]
  },
  {
   "cell_type": "code",
   "execution_count": 81,
   "id": "3c32fad4-fbbe-4a4d-a558-a434339c1c31",
   "metadata": {},
   "outputs": [
    {
     "data": {
      "text/plain": [
       "<AxesSubplot:xlabel='ts'>"
      ]
     },
     "execution_count": 81,
     "metadata": {},
     "output_type": "execute_result"
    },
    {
     "data": {
      "image/png": "[encoded data removed]",
      "text/plain": [
       "<Figure size 864x288 with 1 Axes>"
      ]
     },
     "metadata": {
      "needs_background": "light"
     },
     "output_type": "display_data"
    }
   ],
   "source": [
    "MAX_Y =  (df_pkts.loc[:, 'all_pkts_hour']).max()\n",
    "df_pkts.plot(x=\"ts\", y=\"all_pkts_hour\", kind=\"bar\", figsize=(12,4), ylim=(0.1,MAX_Y))"
   ]
  },
  {
   "cell_type": "code",
   "execution_count": 82,
   "id": "b1e9ea4b-71fb-4377-a6e5-1c441f52753b",
   "metadata": {},
   "outputs": [
    {
     "data": {
      "text/plain": [
       "<AxesSubplot:xlabel='ts', ylabel='all_bytes_hour'>"
      ]
     },
     "execution_count": 82,
     "metadata": {},
     "output_type": "execute_result"
    },
    {
     "data": {
      "image/png": "[encoded data removed]",
      "text/plain": [
       "<Figure size 864x288 with 1 Axes>"
      ]
     },
     "metadata": {
      "needs_background": "light"
     },
     "output_type": "display_data"
    }
   ],
   "source": [
    "df_pkts.plot(x=\"ts\", y=\"all_bytes_hour\", kind=\"scatter\", logy=True, use_index=False, xticks=[], figsize=(12,4))"
   ]
  },
  {
   "cell_type": "code",
   "execution_count": 83,
   "id": "b3facbd4-cd1b-44d9-a3b8-990559e5b139",
   "metadata": {},
   "outputs": [
    {
     "data": {
      "text/plain": [
       "<AxesSubplot:xlabel='ts', ylabel='all_bytes_hour'>"
      ]
     },
     "execution_count": 83,
     "metadata": {},
     "output_type": "execute_result"
    },
    {
     "data": {
      "image/png": "[encoded data removed]",
      "text/plain": [
       "<Figure size 864x288 with 1 Axes>"
      ]
     },
     "metadata": {
      "needs_background": "light"
     },
     "output_type": "display_data"
    }
   ],
   "source": [
    "df_pkts.plot(x=\"ts\", y=\"all_bytes_hour\", kind=\"scatter\", logy=True, use_index=False, xticks=[], figsize=(12,4), ylim=(0.1,1*100000000))"
   ]
  },
  {
   "cell_type": "code",
   "execution_count": 84,
   "id": "101df721-26c1-4b71-9e15-5d7c2b9bdc60",
   "metadata": {},
   "outputs": [
    {
     "data": {
      "text/plain": [
       "<AxesSubplot:xlabel='ts', ylabel='all_bytes_hour'>"
      ]
     },
     "execution_count": 84,
     "metadata": {},
     "output_type": "execute_result"
    },
    {
     "data": {
      "image/png": "[encoded data removed]",
      "text/plain": [
       "<Figure size 864x288 with 1 Axes>"
      ]
     },
     "metadata": {
      "needs_background": "light"
     },
     "output_type": "display_data"
    }
   ],
   "source": [
    "MAX_Y =  (df_pkts.loc[:, 'all_bytes_hour']).max()\n",
    "df_pkts.plot(x=\"ts\", y=\"all_bytes_hour\", kind=\"scatter\", logy=True, use_index=False, xticks=[], figsize=(12,4), ylim=(0.1,MAX_Y))"
   ]
  },
  {
   "cell_type": "code",
   "execution_count": 85,
   "id": "7e38c582-a2a0-40b5-bf64-32056b25047a",
   "metadata": {},
   "outputs": [
    {
     "name": "stdout",
     "output_type": "stream",
     "text": [
      "0     158320\n",
      "1      70568\n",
      "2      63841\n",
      "3      70938\n",
      "4      67718\n",
      "5      63736\n",
      "6      69166\n",
      "7      54616\n",
      "8      60790\n",
      "9      70303\n",
      "10     70242\n",
      "11     61796\n",
      "12     69472\n",
      "13     63070\n",
      "14     58978\n",
      "15     60760\n",
      "16     63863\n",
      "17     62251\n",
      "18     63865\n",
      "19     69127\n",
      "20     70451\n",
      "21     70535\n",
      "22     70317\n",
      "Name: all_pkts_hour, dtype: int64\n"
     ]
    },
    {
     "data": {
      "text/plain": [
       "0     False\n",
       "1     False\n",
       "2     False\n",
       "3     False\n",
       "4     False\n",
       "5     False\n",
       "6     False\n",
       "7     False\n",
       "8     False\n",
       "9     False\n",
       "10    False\n",
       "11    False\n",
       "12    False\n",
       "13    False\n",
       "14    False\n",
       "15    False\n",
       "16    False\n",
       "17    False\n",
       "18    False\n",
       "19    False\n",
       "20    False\n",
       "21    False\n",
       "22    False\n",
       "Name: all_pkts_hour, dtype: bool"
      ]
     },
     "execution_count": 85,
     "metadata": {},
     "output_type": "execute_result"
    }
   ],
   "source": [
    "import numpy as np\n",
    "packets = df_pkts.loc[:, 'all_pkts_hour']\n",
    "print(packets)\n",
    "np.isnan(packets)"
   ]
  },
  {
   "cell_type": "code",
   "execution_count": 86,
   "id": "601dd260-d641-4195-87ad-3bc3916375a8",
   "metadata": {},
   "outputs": [
    {
     "data": {
      "text/plain": [
       "array([1604723.            +0.j        ,  122873.08598496 -2737.6992989j ,\n",
       "        115807.61086005+15922.64050816j,   65923.54523003 -5907.02172871j,\n",
       "         87683.69400476+18738.18655603j,   98939.02669747 -4356.88092675j,\n",
       "         82844.65824486-15990.24191012j,  102826.28800129+25674.48285604j,\n",
       "         98268.1915565 -21831.68849431j,   79737.04057993-10136.31974635j,\n",
       "         74850.28101321 -7378.04420725j,   88565.07782694+13958.97726979j])"
      ]
     },
     "execution_count": 86,
     "metadata": {},
     "output_type": "execute_result"
    }
   ],
   "source": [
    "fft = np.fft.rfft(packets)\n",
    "np.isnan(packets)\n",
    "fft"
   ]
  },
  {
   "cell_type": "code",
   "execution_count": 87,
   "id": "e8a0e634-8324-4627-a54c-46df1931aeed",
   "metadata": {},
   "outputs": [
    {
     "name": "stderr",
     "output_type": "stream",
     "text": [
      "C:\\Users\\Venator\\anaconda3\\lib\\site-packages\\numpy\\core\\_asarray.py:83: ComplexWarning: Casting complex values to real discards the imaginary part\n",
      "  return array(a, dtype, copy=False, order=order)\n"
     ]
    },
    {
     "data": {
      "image/png": "[encoded data removed]",
      "text/plain": [
       "<Figure size 864x360 with 1 Axes>"
      ]
     },
     "metadata": {
      "needs_background": "light"
     },
     "output_type": "display_data"
    }
   ],
   "source": [
    "import matplotlib.pyplot as plt\n",
    "\n",
    "plt.figure(figsize=(12,5))\n",
    "plt.plot(fft)\n",
    "plt.show()"
   ]
  },
  {
   "cell_type": "code",
   "execution_count": 88,
   "id": "d75cfc02-558f-454b-a107-72f4ebe8b730",
   "metadata": {},
   "outputs": [
    {
     "name": "stdout",
     "output_type": "stream",
     "text": [
      "0     107560065.0\n",
      "1      54968533.0\n",
      "2      49456265.0\n",
      "3      57086362.0\n",
      "4      62731534.0\n",
      "5      49157881.0\n",
      "6      54316333.0\n",
      "8      46931593.0\n",
      "9      54670779.0\n",
      "10     54670816.0\n",
      "11     47239484.0\n",
      "12     54687885.0\n",
      "13     50100987.0\n",
      "14     47221970.0\n",
      "15     46899773.0\n",
      "16     49402302.0\n",
      "17     48605919.0\n",
      "18     49449365.0\n",
      "20     54794424.0\n",
      "21     54870084.0\n",
      "Name: all_bytes_hour, dtype: float64\n"
     ]
    },
    {
     "data": {
      "text/plain": [
       "0     False\n",
       "1     False\n",
       "2     False\n",
       "3     False\n",
       "4     False\n",
       "5     False\n",
       "6     False\n",
       "8     False\n",
       "9     False\n",
       "10    False\n",
       "11    False\n",
       "12    False\n",
       "13    False\n",
       "14    False\n",
       "15    False\n",
       "16    False\n",
       "17    False\n",
       "18    False\n",
       "20    False\n",
       "21    False\n",
       "Name: all_bytes_hour, dtype: bool"
      ]
     },
     "execution_count": 88,
     "metadata": {},
     "output_type": "execute_result"
    }
   ],
   "source": [
    "import numpy as np\n",
    "bytesPre = df_pkts.loc[:, 'all_bytes_hour']\n",
    "bytes = bytesPre.dropna()\n",
    "print(bytes)\n",
    "np.isnan(bytes)"
   ]
  },
  {
   "cell_type": "code",
   "execution_count": 89,
   "id": "46476eb6-af63-43ad-a699-20f3d8cdf787",
   "metadata": {},
   "outputs": [
    {
     "data": {
      "text/plain": [
       "array([1.09482235e+09       +0.j        ,\n",
       "       7.07611697e+07-25760458.35218944j,\n",
       "       6.41893695e+07 -2127742.7007191j ,\n",
       "       4.07992107e+07+10812443.97534265j,\n",
       "       5.53143258e+07+16754167.33412645j,\n",
       "       7.09630050e+07 +7509661.j        ,\n",
       "       4.74446595e+07 -7654708.57421165j,\n",
       "       6.37873111e+07-15973422.44377688j,\n",
       "       3.06738272e+07-13086818.25244711j,\n",
       "       5.52922085e+07+14311923.88375524j,\n",
       "       5.79287720e+07       +0.j        ])"
      ]
     },
     "execution_count": 89,
     "metadata": {},
     "output_type": "execute_result"
    }
   ],
   "source": [
    "fft = np.fft.rfft(bytes)\n",
    "np.isnan(bytes)\n",
    "fft"
   ]
  },
  {
   "cell_type": "code",
   "execution_count": 90,
   "id": "939ba154-2414-4f7f-9111-39d05dfe383b",
   "metadata": {},
   "outputs": [
    {
     "name": "stderr",
     "output_type": "stream",
     "text": [
      "C:\\Users\\Venator\\anaconda3\\lib\\site-packages\\numpy\\core\\_asarray.py:83: ComplexWarning: Casting complex values to real discards the imaginary part\n",
      "  return array(a, dtype, copy=False, order=order)\n"
     ]
    },
    {
     "data": {
      "image/png": "[encoded data removed]",
      "text/plain": [
       "<Figure size 864x360 with 1 Axes>"
      ]
     },
     "metadata": {
      "needs_background": "light"
     },
     "output_type": "display_data"
    }
   ],
   "source": [
    "import matplotlib.pyplot as plt\n",
    "\n",
    "plt.figure(figsize=(12,5))\n",
    "plt.plot(fft)\n",
    "plt.show()"
   ]
  },
  {
   "cell_type": "code",
   "execution_count": null,
   "id": "8905acea-9f48-4604-8191-20fae2893a79",
   "metadata": {},
   "outputs": [],
   "source": []
  },
  {
   "cell_type": "code",
   "execution_count": null,
   "id": "9694b555-4250-4b2c-86ee-56885e0e684a",
   "metadata": {},
   "outputs": [],
   "source": []
  }
 ],
 "metadata": {
  "kernelspec": {
   "display_name": "Python 3",
   "language": "python",
   "name": "python3"
  },
  "language_info": {
   "codemirror_mode": {
    "name": "ipython",
    "version": 3
   },
   "file_extension": ".py",
   "mimetype": "text/x-python",
   "name": "python",
   "nbconvert_exporter": "python",
   "pygments_lexer": "ipython3",
   "version": "3.8.8"
  }
 },
 "nbformat": 4,
 "nbformat_minor": 5
}

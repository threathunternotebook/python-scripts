{
 "cells": [
  {
   "cell_type": "raw",
   "id": "49fc947b-b522-475f-bb3b-bf4544b53fa5",
   "metadata": {},
   "source": [
    "\\pagenumbering{gobble}"
   ]
  },
  {
   "cell_type": "markdown",
   "id": "b86d0950-eb46-46bd-a991-4a982648a86f",
   "metadata": {},
   "source": [
    "# Preinstallation Steps for IPython (Jupyter notebook files) scripts\n",
    "\n",
    "Install Anaconda Navigator on Windows. Run Jupyter Lab from Anaconda Navigator\n",
    "\n",
    "Install the following before running PIP. Microsoft Visual C++ 14.0 or greater is required. Get it with \"Microsoft C++ Build Tools\": https://visualstudio.microsoft.com/visual-cpp-build-tools/\n",
    "\n",
    "Also install: https://gitlab.com/api/v4/projects/4207231/packages/generic/graphviz-releases/2.49.0/stable_windows_10_cmake_Release_x64_graphviz-install-2.49.0-win64.exe into the C:\\GraphViz directory when selecting the directory to install during setup. \n",
    "\n",
    "Once the installation is complete, reboot the computer. Run the following in Jupyter Lab."
   ]
  },
  {
   "cell_type": "code",
   "execution_count": null,
   "id": "da7e21d8-449a-4246-a622-e99886f77cfb",
   "metadata": {},
   "outputs": [],
   "source": [
    "!pip3 install \\\n",
    "    mongoengine \\\n",
    "    bs4 \\\n",
    "    lxml \\\n",
    "    ssh2-python \\\n",
    "    graphviz \\\n",
    "    pydot-ng \\\n",
    "    scapy \\\n",
    "    networkx \\\n",
    "    py-postgresql \\\n",
    "    psycopg2 \\\n",
    "    psycopg2-binary \\\n",
    "    Pillow \\\n",
    "    pandas \\\n",
    "    matplotlib \\\n",
    "    scipy \\\n",
    "    sklearn \\\n",
    "    tensorflow \\\n",
    "    pycryptodome \\\n",
    "    cryptography \\\n",
    "    storjnode\n",
    "    "
   ]
  },
  {
   "cell_type": "code",
   "execution_count": 1,
   "id": "78b6a564-39cb-4148-9047-7034e0389195",
   "metadata": {},
   "outputs": [
    {
     "name": "stdout",
     "output_type": "stream",
     "text": [
      "Collecting pygraphviz\n",
      "  Using cached pygraphviz-1.9.zip (119 kB)\n",
      "  Preparing metadata (setup.py): started\n",
      "  Preparing metadata (setup.py): finished with status 'done'\n",
      "Skipping wheel build for pygraphviz, due to binaries being disabled for it.\n",
      "Installing collected packages: pygraphviz"
     ]
    },
    {
     "name": "stderr",
     "output_type": "stream",
     "text": [
      "WARNING: Disabling all use of wheels due to the use of --build-option / --global-option / --install-option.\n"
     ]
    },
    {
     "name": "stdout",
     "output_type": "stream",
     "text": [
      "\n",
      "  Running setup.py install for pygraphviz: started\n",
      "  Running setup.py install for pygraphviz: finished with status 'done'\n",
      "Successfully installed pygraphviz-1.9\n"
     ]
    }
   ],
   "source": [
    "!pip3 install --global-option=build_ext --global-option=\"-IC:\\Graphviz\\include\" --global-option=\"-LC:\\Graphviz\\lib\" pygraphviz"
   ]
  },
  {
   "cell_type": "code",
   "execution_count": null,
   "id": "7fac8080-3037-4309-909b-6dc511c741c9",
   "metadata": {},
   "outputs": [],
   "source": []
  },
  {
   "cell_type": "code",
   "execution_count": null,
   "id": "f8d0d121-f899-4b07-b4a4-cb27f9d8581e",
   "metadata": {},
   "outputs": [],
   "source": []
  }
 ],
 "metadata": {
  "kernelspec": {
   "display_name": "Python 3 (ipykernel)",
   "language": "python",
   "name": "python3"
  },
  "language_info": {
   "codemirror_mode": {
    "name": "ipython",
    "version": 3
   },
   "file_extension": ".py",
   "mimetype": "text/x-python",
   "name": "python",
   "nbconvert_exporter": "python",
   "pygments_lexer": "ipython3",
   "version": "3.9.7"
  }
 },
 "nbformat": 4,
 "nbformat_minor": 5
}

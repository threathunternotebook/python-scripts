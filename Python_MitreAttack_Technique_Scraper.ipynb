{
 "cells": [
  {
   "cell_type": "markdown",
   "id": "5eb767c1",
   "metadata": {},
   "source": [
    "## Import modules"
   ]
  },
  {
   "cell_type": "code",
   "execution_count": null,
   "id": "9b6e451b",
   "metadata": {},
   "outputs": [],
   "source": [
    "import pandas as pd\n",
    "import numpy as np\n",
    "import ssl\n",
    "ssl._create_default_https_context = ssl._create_unverified_context\n",
    "\n",
    "import urllib.request\n",
    "import re"
   ]
  },
  {
   "cell_type": "markdown",
   "id": "7c5d050e",
   "metadata": {},
   "source": [
    "## Datasets\n",
    "\n",
    "- Read in dataset containing MITRE ATT&CK groups, groupids and techniques\n",
    "    - File was pulled from MITRE\n",
    "    - Data/Cells associated with technique columns were all set to 0\n",
    "       - This was done to create a template.\n",
    "       - Will fill with 1 after scaping MITRE ATT&CK group sites for groups matching specific techniques\n",
    "- Create `df_groups` dataframe for CSV file"
   ]
  },
  {
   "cell_type": "code",
   "execution_count": null,
   "id": "f8f97740",
   "metadata": {},
   "outputs": [],
   "source": [
    "df_groups = pd.read_csv(\"MitreAttack_Dataset.csv\")\n",
    "print(df_groups)"
   ]
  },
  {
   "cell_type": "markdown",
   "id": "0d3ff53b",
   "metadata": {},
   "source": [
    "- In the next section, we open a file called *Groups.txt*\n",
    "    - This file contains a text list of all MITRE ATT&CK attack groups\n",
    "    - We then iterate through the file, adding groups to the Groups list\n",
    "    - We print the Groups list to make sure that it is correct"
   ]
  },
  {
   "cell_type": "code",
   "execution_count": null,
   "id": "2a625aeb",
   "metadata": {},
   "outputs": [],
   "source": [
    "Groups = []\n",
    "with open(\"Groups.txt\", \"r\") as GroupsFile:\n",
    "   for line in GroupsFile:\n",
    "      Groups.append(line)\n",
    "Groups = [group.replace('\\n','') for group in Groups]\n",
    "print(Groups)"
   ]
  },
  {
   "cell_type": "code",
   "execution_count": null,
   "id": "87dbb07c",
   "metadata": {},
   "outputs": [],
   "source": [
    "#df_groups = pd.DataFrame(Groups, columns=['Groups'])\n",
    "#print(df_groups)"
   ]
  },
  {
   "cell_type": "markdown",
   "id": "3316da80",
   "metadata": {},
   "source": [
    "- The URL: *https://attack.mitre.org/groups/<groupID>* provides a web page containing a Groups attack techniques\n",
    "- In the next section, we create a user agent that will be provided in the header to connect to the above URL\n",
    "- We then iterate through the Groups list and build the http header to connect to the above URL\n",
    "    - We look for the regular expressions associated with the techniques and create a list called techniques with all the scraped techniques\n",
    "- Finally, we iterate through our techniques list\n",
    "    - Here, we look for the associated group and technique\n",
    "       - if there is a match, we set the technique for the associated group to 1 in the pandas dataframe\n",
    "\n",
    "    "
   ]
  },
  {
   "cell_type": "code",
   "execution_count": null,
   "id": "7754abf7",
   "metadata": {},
   "outputs": [],
   "source": [
    "USER_AGENT = 'Mozilla/5.0 (Windows NT 10.0; Win64; x64) AppleWebKit/537.36 (KHTML, like Gecko) Chrome/42.0.2311.135 Safari/537.36 Edge/12.246'\n",
    "for group in Groups:\n",
    "   url = \"https://attack.mitre.org/groups/\" + group\n",
    "   opener = urllib.request.build_opener()\n",
    "   opener.addheaders = [('User-agent', USER_AGENT)]\n",
    "   response = urllib.request.urlopen(url)\n",
    "   html_content = response.read()\n",
    "   pattern = re.compile(\"T[0-9]{4}\\/[0-9]{3}\\\">\\.[0-9]{3}\") \n",
    "   techniques = re.findall(pattern,str(html_content))\n",
    "   techniques = [technique.replace('/','.') for technique in techniques]\n",
    "   techniques = [re.sub(r'\\\"\\>\\.[0-9]{3}','', technique) for technique in techniques]\n",
    "   techniques = list(set(techniques))\n",
    "   for technique in techniques:\n",
    "      df_groups.loc[df_groups[\"GroupID\"] == group, technique] = 1\n",
    "#      if technique not in techniques:\n",
    "#        df_groups.loc[df_groups[\"GroupID\"] == group, technique] = 0"
   ]
  },
  {
   "cell_type": "markdown",
   "id": "6b8830f7",
   "metadata": {},
   "source": [
    "## Things to do in next cell\n",
    "\n",
    "- Because each MITRE ATT&CK group is not an enterprise attack group (some may be mobile)\n",
    "    - We will pick up new columns with NaNs in the rows\n",
    "    - We need to delete the columns with all NaNs\n",
    "       - Drop columns where all values are NaN (solved)\n",
    "- Next we need to drop all rows with zeros in the techniques\n",
    "    - All zeros will affect our network science affiliation builds\n",
    "      - Delete any rows where all techniques are 0's  \n",
    "- Finally, we write out the dataframe created into a .csv file\n",
    "    - This will be imported into networkx later\n",
    "       - Note, we could just use the dataframe itself for networkx\n",
    "       - Write out the dataframe to a CSV file"
   ]
  },
  {
   "cell_type": "code",
   "execution_count": null,
   "id": "a1d32e14",
   "metadata": {},
   "outputs": [],
   "source": [
    "# Drop columns where all values are NaN\n",
    "df_groups = df_groups.dropna(axis=1, how='all')\n",
    "\n",
    "# Drop rows where all techniques in a row are 0\n",
    "#print(techniques)\n",
    "df_groups = df_groups.loc[(df_groups[techniques] != 0).any(axis=1)]\n",
    "\n",
    "#print(df_test)\n"
   ]
  },
  {
   "cell_type": "code",
   "execution_count": null,
   "id": "cd22a937",
   "metadata": {},
   "outputs": [],
   "source": [
    "\n",
    "#df_groups\n",
    "df_groups.to_csv(\"MitreGroups_Dataset3.csv\", index = False)\n"
   ]
  },
  {
   "cell_type": "markdown",
   "id": "a726b458",
   "metadata": {},
   "source": [
    "## Network Science\n",
    "\n",
    "### If \"MitreGroups_Dataset3.csv\" dataset already exists, start here"
   ]
  },
  {
   "cell_type": "markdown",
   "id": "34f3e6a6",
   "metadata": {},
   "source": [
    "## Import networkx and setup visualization parameters"
   ]
  },
  {
   "cell_type": "code",
   "execution_count": null,
   "id": "a6a8e7be",
   "metadata": {},
   "outputs": [],
   "source": [
    "import random\n",
    "import networkx as nx\n",
    "\n",
    "# Configure plotting in Jupyter\n",
    "from matplotlib import pyplot as plt\n",
    "%matplotlib inline\n",
    "plt.rcParams.update({\n",
    "    'figure.figsize': (7.5, 7.5),\n",
    "    'axes.spines.right': True,\n",
    "    'axes.spines.left': True,\n",
    "    'axes.spines.top': True,\n",
    "    'axes.spines.bottom': True})\n",
    "# Seed random number generator\n",
    "from numpy import random as nprand\n",
    "seed = hash(\"Network Science in Python\") % 2**32\n",
    "nprand.seed(seed)\n",
    "random.seed(seed)"
   ]
  },
  {
   "cell_type": "markdown",
   "id": "1fe0680c",
   "metadata": {},
   "source": [
    "- We need to create an affiliation network\n",
    "    - Open up the .csv dataset recently created\n",
    "    - Parse each row (except the header)\n",
    "        - Create a list called `parts` containing values for each row\n",
    "        - Add groups from each row to a list called `groupids`\n",
    "        - add each groupids to the set called `groups`\n",
    "        - Enumerate over all columns in each row (except the groupid column) looking for the value of 1\n",
    "           - Here, 1 is associated with the technique that the group actually uses\n",
    "           - If the value is not 0, we add the groupid and technique as edges, and value as a weight attribute to the B network edges\n",
    "- Import the bipartite method from networkx (To create an affiliation network)\n",
    "- Create the G affiliation network from B network and groups set"
   ]
  },
  {
   "cell_type": "code",
   "execution_count": null,
   "id": "a44f4c44",
   "metadata": {},
   "outputs": [],
   "source": [
    "# Create empty affiliation network and list of MITRE ATT&CK groups\n",
    "B = nx.Graph()\n",
    "groups = set()\n",
    "# Load data file into network\n",
    "from pathlib import Path\n",
    "data_dir = Path('.')\n",
    "with open(data_dir / 'MitreGroups_Dataset3.csv') as f:\n",
    "    # Parse header\n",
    "    events = next(f).strip().split(\",\")[1:]\n",
    "    #print(events)\n",
    "    # Parse rows\n",
    "    for row in f:\n",
    "        #print(row)\n",
    "        parts = row.strip().split(\",\")\n",
    "        #print(parts)\n",
    "        groupids = parts[0]\n",
    "        #print(groupids)\n",
    "        groups.add(groupids)\n",
    "        #print(groups)\n",
    "        for j, value in enumerate(parts[1:]):\n",
    "            #print(j, value)\n",
    "            if value != \"0\":\n",
    "                B.add_edge(groupids, events[j], weight=int(value))\n",
    "                B.nodes[groupids][\"bipartite\"] = 0\n",
    "                B.nodes[events[j]][\"bipartite\"] = 1\n",
    "                #print(B.edges(data=True))\n",
    "# Project into group-to-group co-affilation network\n",
    "\n",
    "from networkx import bipartite\n",
    "G = bipartite.projected_graph(B, groups)\n",
    "G.nodes(data=True)\n",
    "#B = B.subgraph(list(nx.connected_components(B))[0])"
   ]
  },
  {
   "cell_type": "code",
   "execution_count": null,
   "id": "f9153afc",
   "metadata": {},
   "outputs": [],
   "source": [
    "print(B.edges(data=True))"
   ]
  },
  {
   "cell_type": "code",
   "execution_count": null,
   "id": "8ad4afea",
   "metadata": {},
   "outputs": [],
   "source": [
    "# Get node sets\n",
    "#print(B.nodes(data=True))\n",
    "attackers = [v for v in B.nodes if B.nodes[v][\"bipartite\"] == 0]\n",
    "#print(pollinators)\n",
    "ma_techniques = [v for v in B.nodes if B.nodes[v][\"bipartite\"] == 1]\n",
    "print(attackers)"
   ]
  },
  {
   "cell_type": "markdown",
   "id": "61cc0436",
   "metadata": {},
   "source": [
    "- Now that we have our affiliation network, we can look at centralities\n",
    "- First, we look at betweeness centrality\n",
    "    - Betweenness Centrality is based on the assumption that...\n",
    "        - The greater the number of shortest paths pass through a node (or edge)...\n",
    "           - The more it acts as a broker (or bridge)\n",
    "    - To calculate betweenness centrality:\n",
    "        - The shortest paths between each pair of nodes are found\n",
    "        - The betweenness centrality value for a node or edge is just the number of these paths that pass through it\n",
    "- High betweenness centralities suggest...\n",
    "     - These attack groups are skilled or mature among attackers\n",
    "        - Suggesting  Nation-State or a high-level criminal organization\n",
    "- However, network analysis alone cannot reveal why these groups are mature in their methods.\n",
    "    - This requires richer data and methods\n",
    "- However, looking at other network measures can still help shed some light on the role these attack groups play"
   ]
  },
  {
   "cell_type": "code",
   "execution_count": null,
   "id": "961003c9",
   "metadata": {},
   "outputs": [],
   "source": [
    "betweenness = nx.betweenness_centrality(G, normalized=False)\n",
    "sorted(betweenness.items(), key=lambda x:x[1], reverse=True)[0:10]"
   ]
  },
  {
   "cell_type": "markdown",
   "id": "12d7ee58",
   "metadata": {},
   "source": [
    "- The more well-connected a node:\n",
    "    - The higher the eigenvector centrality\n",
    "- In NetworkX, the eigenvector_centrality() function can be used to calculate eigenvector centrality\n",
    "- As with other centrality measures, this function returns a dict that maps node IDs to centrality values\n",
    "- The following example applies the function to the attackers network\n",
    "- Prints the top 10 hubs in the network:\n",
    "\n",
    "- Just as before, these are all notable attackers from the MITRE ATT&CK framework groups\n",
    "- However, some attackers with high eigenvector centrality don't have particularly high betweenness centrality\n",
    "    - Actually, these attack groups don't have high eigenvector centraility\n",
    "       - .10 ?\n",
    "- Groups with high eigenvector centrality create many short paths between others\n",
    "    - But, not necessarily the *shortest* paths"
   ]
  },
  {
   "cell_type": "code",
   "execution_count": null,
   "id": "e8bd55db",
   "metadata": {},
   "outputs": [],
   "source": [
    "eigenvector = nx.eigenvector_centrality(G)\n",
    "sorted(eigenvector.items(), key=lambda x:x[1], reverse=True)[0:10]"
   ]
  },
  {
   "cell_type": "markdown",
   "id": "d70ed7cd",
   "metadata": {},
   "source": [
    "- Nodes with high closeness have, on average, short paths to other nodes\n",
    "    - Can be helpful for understanding depth in capabilities\n",
    "    \n",
    "- The following example uses the NetworkX `closeness_centrality()` function\n",
    "    - Calculates the closeness centrality values for the attack groups network and displays the top 10\n",
    "\n",
    "- Nearly every group in this list appears in at least one of the other top 10 lists\n",
    "    - Only G0069 and G0010 don't appear in all three\n",
    "    - G0032 comes out on top of all three\n",
    "       - Clearly more active or mature than the others\n",
    "       - Not less important\n",
    "- Important lesson is:\n",
    "    - The important structural roles played by brokers and hubs in a network are easily and often obscured"
   ]
  },
  {
   "cell_type": "code",
   "execution_count": null,
   "id": "a345c93c",
   "metadata": {},
   "outputs": [],
   "source": [
    "closeness = nx.closeness_centrality(G)\n",
    "sorted(closeness.items(), key=lambda x:x[1], reverse=True)[0:10]"
   ]
  },
  {
   "cell_type": "markdown",
   "id": "dca0c593",
   "metadata": {},
   "source": [
    "- We will now look at the relationships between a node's neighbors\n",
    "    - rather than just the node itself\n",
    "- Often useful to consider whether a node's neighbors tend to be connected to each other\n",
    "    - In an attack network, this question translates to asking whether the attacker of an attacker is also similar to  corresponding attacker in regards to techniques used.\n",
    "       - This is a property known as **transitivity** (a math thing)\n",
    "- The result of such relationships are triangles:\n",
    "    - Three nodes, all mutually connected\n",
    "       - Fully meshed\n",
    "- The tendency for such triangles to arise is called clustering\n",
    "    - When strong clustering is present, it often suggests robustness, and redundancy in a network\n",
    "       - If one edge disappears, a path still exists via the other two\n",
    "- Clustering is measured via the **local clustering coefficient**\n",
    "    - Defines as the fraction of all pairs of a node's neighbors that have an edge between them\n",
    "    \n",
    "    \n",
    "- In NetworkX, the number of triangles between a node and its neighbors can be calculated using the `triangles` function\n",
    "    - The below output tells us that G0032, G0128, G0007, G0094, G0046, G0016 and G0059 have strong similarites in techniques\n",
    "       - Are these groups associated somehow? Perhaps by country? Further analysis is needed"
   ]
  },
  {
   "cell_type": "code",
   "execution_count": null,
   "id": "24e0a65a",
   "metadata": {},
   "outputs": [],
   "source": [
    "triangles = nx.triangles(G)\n",
    "sorted(triangles.items(), key=lambda x:x[1], reverse=True)[0:10]"
   ]
  },
  {
   "cell_type": "markdown",
   "id": "683b02bf",
   "metadata": {},
   "source": [
    "- Remember...\n",
    "    - Clustering is measured via the local clustering coefficient\n",
    "    - Defines as the fraction of all pairs of a node's neighbors that have an edge between them\n",
    "    \n",
    "- Now, we can use the `clustering()` function to find the local clustering coefficient for these nodes\n",
    "\n",
    "- G0032, G0128, G0007, G0094, G0046, G0016 and G0059 shows up as having the highest centrality in terms of triangles\n",
    "- These top nodes have local clustering coefficients in roughly 85-86% range\n",
    "- While, nodes in the network span the entire 0% - 100% range\n",
    "    - The seven attackers common to the top 10 lists for all centrality measures have local clustering coefficients of 85-86%\n",
    "- If an attacker's local clusting coefficient is low:\n",
    "    - Suggests their techniques are not well established\n",
    "- If the coefficient is high\n",
    "    - Suggests that an attacker's techniques are well established or mature\n",
    "- So, the most central attackers have absolute numbers of triangles and high local clustering coefficients"
   ]
  },
  {
   "cell_type": "code",
   "execution_count": null,
   "id": "8d456590",
   "metadata": {},
   "outputs": [],
   "source": [
    "clustering = nx.clustering(G)\n",
    "[(x, clustering[x]) for x in sorted(groups, key=lambda x:eigenvector[x], reverse=True)[0:10]]"
   ]
  },
  {
   "cell_type": "markdown",
   "id": "0605d979",
   "metadata": {},
   "source": [
    "## Visualization\n",
    "\n",
    "- We will now create visualizations of our attacker affiliation network\n",
    "- First, we will plot/draw out the current network using a spring layout\n",
    "- We define some basic parameter for the plot\n",
    "- We also save the plot to a file"
   ]
  },
  {
   "cell_type": "code",
   "execution_count": null,
   "id": "91bb3f06",
   "metadata": {},
   "outputs": [],
   "source": [
    "# Create co-affiliation network\n",
    "G = bipartite.projected_graph(B, ma_techniques)\n",
    "#print(G.edges(data=True))\n",
    "# Create figure\n",
    "plt.figure(figsize=(24,24))\n",
    "# Calculate layout\n",
    "pos = nx.spring_layout(G, k=0.5)\n",
    "# Draw edges, nodes, and labels\n",
    "nx.draw_networkx_edges(G, pos, width=3, alpha=0.2)\n",
    "nx.draw_networkx_nodes(G, pos, node_color=\"#bfbf7f\", node_shape=\"h\", node_size=10000)\n",
    "nx.draw_networkx_labels(G, pos)\n",
    "plt.savefig('techniques_affiliation.png', dpi=150)"
   ]
  },
  {
   "cell_type": "markdown",
   "id": "eeb0bd1e",
   "metadata": {},
   "source": [
    "- In the preceding unweighted projections, considerable information is lost concerning structure of network\n",
    "- An edge might mean that two nodes have one common affiliation or hundreds\n",
    "- Weighted projections help us capture some of that lost information\n",
    "- Weighted projections turn a weighted or un-weighted affiliation network into a weighted co-affiliation network\n",
    "    - Some of the structural information lost is recaptured in the edge weights\n",
    "- A common way to calculate edge weights is simply by counting the number of neighbors\n",
    "- This technique can be interpreted as...\n",
    "    - Counting the number of paths between two nodes in the original affiliation network\n",
    "- In NetworkX, projection is achieved using the weighted_projected_graph() function\n",
    "    - Seen in the following code\n",
    "       - Computed weight is stored in the weight edge attribute\n",
    "           - Here, the computed weight is the number of techniques the attack groups have in common\n",
    "              - This could help with attribution of unknown groups\n",
    "       - Note: we just print out the first edge below"
   ]
  },
  {
   "cell_type": "code",
   "execution_count": null,
   "id": "3bb2fb6e",
   "metadata": {},
   "outputs": [],
   "source": [
    "G = bipartite.weighted_projected_graph(B, attackers)\n",
    "list(G.edges(data=True))[40]"
   ]
  },
  {
   "cell_type": "code",
   "execution_count": null,
   "id": "27b1cc6e",
   "metadata": {},
   "outputs": [],
   "source": [
    "# Create co-affiliation network\n",
    "#G = bipartite.projected_graph(B, groups)\n",
    "# Create figure\n",
    "plt.figure(figsize=(24,24))\n",
    "# Calculate layout\n",
    "#pos = nx.shell_layout(G)\n",
    "#pos = nx.circular_layout(G)\n",
    "pos = nx.spring_layout(G, k=0.5)\n",
    "# Draw edges, nodes, and labels\n",
    "nx.draw_networkx_edges(G, pos, width=3, alpha=0.2)\n",
    "nx.draw_networkx_nodes(G, pos, node_color=\"#bfbf7f\", node_shape=\"h\", node_size=10000)\n",
    "nx.draw_networkx_labels(G, pos)\n",
    "plt.savefig('attackers_affiliation.png', dpi=150)"
   ]
  },
  {
   "cell_type": "markdown",
   "id": "80901bde",
   "metadata": {},
   "source": [
    "- Edge weights can also be calculated using a similarity measure such a the *Jaccard Index*\n",
    "    - The Jaccard Index for two nodes is the...\n",
    "       - Number of common neighbors divided by the number of nodes that neighbor either of the nodes, \n",
    "          - and ranges from 0 (no common neighbors) to 1 (all neighbors are common)\n",
    "       - The `overlap_weighted_projection_graph()` function creates a projection using the Jaccard index\n",
    "    - Following code calculates such a projection for the attacker (group) network\n",
    "       - Visualizes edge weights using a color gradient"
   ]
  },
  {
   "cell_type": "code",
   "execution_count": null,
   "id": "15e68235",
   "metadata": {},
   "outputs": [],
   "source": [
    "# Create co-affiliation network\n",
    "G = bipartite.overlap_weighted_projected_graph(B, groups)\n",
    "# Get weights\n",
    "edge_weight = [G.edges[e]['weight'] for e in G.edges]\n",
    "# Create figure\n",
    "plt.figure(figsize=(30,30))\n",
    "# Calculate layout\n",
    "pos = nx.spring_layout(G, weight='edge_weight', k=0.5)\n",
    "# Draw edges, nodes, and labels\n",
    "nx.draw_networkx_edges(G, pos, edge_color=edge_weight, edge_cmap=plt.cm.Blues, width=6, alpha=0.5)\n",
    "nx.draw_networkx_nodes(G, pos, node_color=\"#9f9fff\", node_size=6000)\n",
    "nx.draw_networkx_labels(G, pos)\n",
    "plt.savefig('attacker_co-affiliation_network.png', dpi=150)"
   ]
  },
  {
   "cell_type": "markdown",
   "id": "78dfdfe8",
   "metadata": {},
   "source": [
    "- The preceding code uses the `edge_color` parameter of `draw_network_edges()` to color edges based on their projected weight\n",
    "    - allows the strength of the connections to be visualized\n",
    "- The diagram uncovers some additional information about the attacker-attacker network\n",
    "    - While most nodes have many neighbors\n",
    "       - the weight of those edges is relatively low\n",
    "    - Some nodes have fewer but stronger connections\n",
    "       - Shows isolated groups of attackers that have much in common with each other\n",
    "- Ultimately, the type of projection to use depends on the nature of the network data and the question yo hope to answer"
   ]
  },
  {
   "cell_type": "markdown",
   "id": "b619637c",
   "metadata": {},
   "source": [
    "- Next we are going to focus on attackers that contain matching techniques\n",
    "    - So using the `bipartite.weighted_projected_graph()` method we calculate the number of techniques that attackers (nodes) have in common\n",
    "       - Happens automagically using this method\n",
    "- We then create a new network named `network` and add all edges from the `G` network that have 30 or more techniques in common\n",
    "    - This is stored in the weight attribute"
   ]
  },
  {
   "cell_type": "code",
   "execution_count": null,
   "id": "fe15d44a",
   "metadata": {},
   "outputs": [],
   "source": [
    "G = bipartite.weighted_projected_graph(B, attackers)\n",
    "#network.clear()\n",
    "network = nx.Graph()\n",
    "#print(G.edges(data=True))\n",
    "for a, g, w in G.edges(data=True):\n",
    "   if w['weight'] >= 30:\n",
    "      #print(a, g)\n",
    "      network.add_edge(a, g)\n",
    "      network.edges[a,g][\"weight\"] = w['weight']\n",
    "      #network.set_edge_attributes(network, G.edges)"
   ]
  },
  {
   "cell_type": "markdown",
   "id": "15427f02",
   "metadata": {},
   "source": [
    "- Let's take a look at those edges in the `network` network"
   ]
  },
  {
   "cell_type": "code",
   "execution_count": null,
   "id": "982e49af",
   "metadata": {},
   "outputs": [],
   "source": [
    "print(network.edges(data=True))"
   ]
  },
  {
   "cell_type": "markdown",
   "id": "ae12d71d",
   "metadata": {},
   "source": [
    "- Now that we have a network that is narrowed down to edges that have higher weights (attackers that have the highest number of techniques in common)\n",
    "    - We can be begin visualizing the network and attacker affiliations\n",
    "-First, we create some variables associated with weights for drawing lines\n",
    "    - edge_weight: Used to define line colors\n",
    "    - edge_width: Used to define line width\n",
    "    - edge_color: Used to define line color in our multi-plot visualization\n",
    "- We then draw our edges and nodes\n",
    "    - We save the output diagram to a file"
   ]
  },
  {
   "cell_type": "code",
   "execution_count": null,
   "id": "fa5672ef",
   "metadata": {},
   "outputs": [],
   "source": [
    "edge_weight = [network.edges[e]['weight'] for e in network.edges]\n",
    "edge_width = [network.edges[e]['weight'] / 5 for e in network.edges]\n",
    "edge_color = [network.edges[e]['weight'] * 10 for e in network.edges]\n",
    "# Create figure\n",
    "plt.figure(figsize=(5,5))\n",
    "# Calculate layout\n",
    "#pos = nx.shell_layout(G)\n",
    "pos = nx.circular_layout(network)\n",
    "#pos = nx.spring_layout(network, k=0.5)\n",
    "# Draw edges, nodes, and labels\n",
    "nx.draw_networkx_edges(network, pos, edge_color = edge_weight, width = edge_width, alpha=0.2)\n",
    "nx.draw_networkx_nodes(network, pos, node_color=\"#bfbf7f\", node_shape=\"h\", node_size=1000)\n",
    "nx.draw_networkx_labels(network, pos)\n",
    "plt.savefig('attacker_weights.png', dpi=150)"
   ]
  },
  {
   "cell_type": "markdown",
   "id": "f4166f74",
   "metadata": {},
   "source": [
    "- Finally, we draw 4 separate layouts to find a good visualization\n",
    "    - Spring Layout\n",
    "    - Random Layout\n",
    "    - Spiral Layout\n",
    "    - Circular Layout"
   ]
  },
  {
   "cell_type": "code",
   "execution_count": null,
   "id": "2547c010",
   "metadata": {},
   "outputs": [],
   "source": [
    "# Draw our graph\n",
    "#Define our Graph Plot Layouts\n",
    "fig_size = (10,7)\n",
    "layouts = (nx.spring_layout, nx.random_layout, nx.spiral_layout, nx.circular_layout)\n",
    "title = (\"Force-directed\", \"Random\", \"Spiral\", \"Circular\")\n",
    "## Create our Plots\n",
    "# Create 4 subplots with the figure size based on graph size\n",
    "_, plot = plt.subplots(2, 2, figsize=fig_size)\n",
    "subplots = plot.reshape(1, 4)[0]\n",
    "# Draw a plot for each layout\n",
    "for plot, layout, title in zip(subplots, layouts, title):\n",
    "    pos = layout(network)\n",
    "    # Use seed to ensure re-creation of same visuals \n",
    "    seed = hash(\"Network Science in Python\") % 2**32\n",
    "    nprand.seed(seed)\n",
    "    random.seed(seed) \n",
    "    # Draw nodes and edges\n",
    "    nx.draw_networkx_edges(network, pos, ax=plot, width=1.0, style=\"solid\", edge_color=edge_color, edge_cmap=plt.cm.Greys, alpha=1.0)\n",
    "    nx.draw_networkx_nodes(network, pos, ax=plot, node_size = 600, node_color=\"yellow\", node_shape=\"o\")\n",
    "    # Draw labels\n",
    "    nx.draw_networkx_labels(network, pos, ax=plot, font_color=\"red\", font_size=8)\n",
    "    plot.set_title(title)\n",
    "    plt.savefig('attacker_visualizations.png', dpi=150)\n",
    "\n",
    "# Draw with tight layout https://matplotlib.org/tutorials/intermediate/tight_layout_guide.html\n",
    "plt.gca().margins(0.20, 0.20)\n",
    "plt.tight_layout()\n",
    "plt.show()"
   ]
  },
  {
   "cell_type": "code",
   "execution_count": null,
   "id": "10616b8e",
   "metadata": {},
   "outputs": [],
   "source": []
  }
 ],
 "metadata": {
  "kernelspec": {
   "display_name": "Python 3",
   "language": "python",
   "name": "python3"
  },
  "language_info": {
   "codemirror_mode": {
    "name": "ipython",
    "version": 3
   },
   "file_extension": ".py",
   "mimetype": "text/x-python",
   "name": "python",
   "nbconvert_exporter": "python",
   "pygments_lexer": "ipython3",
   "version": "3.8.8"
  }
 },
 "nbformat": 4,
 "nbformat_minor": 5
}
